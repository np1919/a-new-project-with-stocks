{
 "cells": [
  {
   "cell_type": "markdown",
   "metadata": {},
   "source": [
    "This package is to run data modelling/forecast predictions based on historical data.\n",
    "\n",
    "The sqlite database keeps a record of what stock data is on hand, when it begins, and when it ends.\n",
    "\n",
    "When data is requested from the database, if it is not available in the database, execute a request to the API (and update the ticker table as well as the metadata table in the database)"
   ]
  },
  {
   "cell_type": "code",
   "execution_count": 1,
   "metadata": {},
   "outputs": [],
   "source": [
    "import datetime as dt\n",
    "from zoneinfo import ZoneInfo\n",
    "import yfinance as yf\n",
    "import sqlite3\n",
    "import pandas as pd\n",
    "import time \n",
    "from db_utilities import query, list_all_tables, create_metadata_table, create_ticker_table, drop_ticker_table, read_table\n",
    "from stock_functions import get_close_price, get_ohlc\n",
    "# populate your universe of stocks\n",
    "data = pd.read_csv('data/constituents.csv')\n",
    "all_tickers = list(data['Symbol'])"
   ]
  },
  {
   "cell_type": "code",
   "execution_count": 2,
   "metadata": {},
   "outputs": [
    {
     "name": "stderr",
     "output_type": "stream",
     "text": [
      "c:\\Users\\polan\\Desktop\\GitHub Repos\\A New Project\\myenv\\Lib\\site-packages\\yfinance\\utils.py:775: FutureWarning: The 'unit' keyword in TimedeltaIndex construction is deprecated and will be removed in a future version. Use pd.to_timedelta instead.\n",
      "  df.index += _pd.TimedeltaIndex(dst_error_hours, 'h')\n"
     ]
    }
   ],
   "source": [
    "aapl_1 = get_ohlc('AAPL', start_date='2016-01-01', end_date='2018-01-01')"
   ]
  },
  {
   "cell_type": "code",
   "execution_count": 3,
   "metadata": {},
   "outputs": [
    {
     "name": "stderr",
     "output_type": "stream",
     "text": [
      "c:\\Users\\polan\\Desktop\\GitHub Repos\\A New Project\\myenv\\Lib\\site-packages\\yfinance\\utils.py:775: FutureWarning: The 'unit' keyword in TimedeltaIndex construction is deprecated and will be removed in a future version. Use pd.to_timedelta instead.\n",
      "  df.index += _pd.TimedeltaIndex(dst_error_hours, 'h')\n"
     ]
    }
   ],
   "source": [
    "aapl_2 = get_ohlc('AAPL', start_date='2018-01-01')"
   ]
  },
  {
   "cell_type": "code",
   "execution_count": 4,
   "metadata": {},
   "outputs": [
    {
     "data": {
      "text/plain": [
       "[]"
      ]
     },
     "execution_count": 4,
     "metadata": {},
     "output_type": "execute_result"
    }
   ],
   "source": [
    "con = sqlite3.connect('stocks.db')\n",
    "\n",
    "list(query(\"SELECT * FROM stock_metadata WHERE stock_metadata.ticker = 'AAPL';\").values)"
   ]
  },
  {
   "cell_type": "code",
   "execution_count": null,
   "metadata": {},
   "outputs": [],
   "source": []
  },
  {
   "cell_type": "code",
   "execution_count": 5,
   "metadata": {},
   "outputs": [],
   "source": [
    "def get_metadata(table_name, METADATA_TABLE='stock_metadata'):\n",
    "\n",
    "    try:\n",
    "        output = list(query(f\"SELECT * FROM {METADATA_TABLE} WHERE {METADATA_TABLE}.ticker = '{table_name}';\").values)\n",
    "        # print(f'drew {len(output)} from {METADATA_TABLE}')\n",
    "    except BaseException as e:\n",
    "        print(e)\n",
    "        return None\n",
    "    return output"
   ]
  },
  {
   "cell_type": "code",
   "execution_count": 6,
   "metadata": {},
   "outputs": [
    {
     "data": {
      "text/plain": [
       "[]"
      ]
     },
     "execution_count": 6,
     "metadata": {},
     "output_type": "execute_result"
    }
   ],
   "source": [
    "get_metadata('AAPL')\n"
   ]
  },
  {
   "cell_type": "code",
   "execution_count": 8,
   "metadata": {},
   "outputs": [],
   "source": [
    "def get_existing_metadata(table_name, METADATA_TABLE='stock_metadata'):\n",
    "\n",
    "    try:\n",
    "        output = list(query(f\"SELECT * FROM {METADATA_TABLE} WHERE {METADATA_TABLE}.ticker = '{table_name}';\").values)\n",
    "        # print(f'drew {len(output)} from {METADATA_TABLE}')\n",
    "    except BaseException as e:\n",
    "        print(e)\n",
    "        return None\n",
    "    return output"
   ]
  },
  {
   "cell_type": "code",
   "execution_count": 11,
   "metadata": {},
   "outputs": [],
   "source": [
    "def tz_aware_first_and_last(table_name, timezone='America/New_York'):\n",
    "    return [dt.datetime(*tuple([int(y) for y in x[:10].split('-')])).replace(tzinfo=ZoneInfo(timezone)) for x in query(f\"SELECT max(date) as most_recent, min(date) as oldest FROM {table_name};\").values[0]]"
   ]
  },
  {
   "cell_type": "code",
   "execution_count": 15,
   "metadata": {},
   "outputs": [
    {
     "ename": "TypeError",
     "evalue": "'NoneType' object is not subscriptable",
     "output_type": "error",
     "traceback": [
      "\u001b[1;31m---------------------------------------------------------------------------\u001b[0m",
      "\u001b[1;31mTypeError\u001b[0m                                 Traceback (most recent call last)",
      "Cell \u001b[1;32mIn[15], line 1\u001b[0m\n\u001b[1;32m----> 1\u001b[0m \u001b[43mtz_aware_first_and_last\u001b[49m\u001b[43m(\u001b[49m\u001b[38;5;124;43m'\u001b[39;49m\u001b[38;5;124;43mAAPL\u001b[39;49m\u001b[38;5;124;43m'\u001b[39;49m\u001b[43m)\u001b[49m\n",
      "Cell \u001b[1;32mIn[11], line 2\u001b[0m, in \u001b[0;36mtz_aware_first_and_last\u001b[1;34m(table_name, timezone)\u001b[0m\n\u001b[0;32m      1\u001b[0m \u001b[38;5;28;01mdef\u001b[39;00m \u001b[38;5;21mtz_aware_first_and_last\u001b[39m(table_name, timezone\u001b[38;5;241m=\u001b[39m\u001b[38;5;124m'\u001b[39m\u001b[38;5;124mAmerica/New_York\u001b[39m\u001b[38;5;124m'\u001b[39m):\n\u001b[1;32m----> 2\u001b[0m     \u001b[38;5;28;01mreturn\u001b[39;00m \u001b[43m[\u001b[49m\u001b[43mdt\u001b[49m\u001b[38;5;241;43m.\u001b[39;49m\u001b[43mdatetime\u001b[49m\u001b[43m(\u001b[49m\u001b[38;5;241;43m*\u001b[39;49m\u001b[38;5;28;43mtuple\u001b[39;49m\u001b[43m(\u001b[49m\u001b[43m[\u001b[49m\u001b[38;5;28;43mint\u001b[39;49m\u001b[43m(\u001b[49m\u001b[43my\u001b[49m\u001b[43m)\u001b[49m\u001b[43m \u001b[49m\u001b[38;5;28;43;01mfor\u001b[39;49;00m\u001b[43m \u001b[49m\u001b[43my\u001b[49m\u001b[43m \u001b[49m\u001b[38;5;129;43;01min\u001b[39;49;00m\u001b[43m \u001b[49m\u001b[43mx\u001b[49m\u001b[43m[\u001b[49m\u001b[43m:\u001b[49m\u001b[38;5;241;43m10\u001b[39;49m\u001b[43m]\u001b[49m\u001b[38;5;241;43m.\u001b[39;49m\u001b[43msplit\u001b[49m\u001b[43m(\u001b[49m\u001b[38;5;124;43m'\u001b[39;49m\u001b[38;5;124;43m-\u001b[39;49m\u001b[38;5;124;43m'\u001b[39;49m\u001b[43m)\u001b[49m\u001b[43m]\u001b[49m\u001b[43m)\u001b[49m\u001b[43m)\u001b[49m\u001b[38;5;241;43m.\u001b[39;49m\u001b[43mreplace\u001b[49m\u001b[43m(\u001b[49m\u001b[43mtzinfo\u001b[49m\u001b[38;5;241;43m=\u001b[39;49m\u001b[43mZoneInfo\u001b[49m\u001b[43m(\u001b[49m\u001b[43mtimezone\u001b[49m\u001b[43m)\u001b[49m\u001b[43m)\u001b[49m\u001b[43m \u001b[49m\u001b[38;5;28;43;01mfor\u001b[39;49;00m\u001b[43m \u001b[49m\u001b[43mx\u001b[49m\u001b[43m \u001b[49m\u001b[38;5;129;43;01min\u001b[39;49;00m\u001b[43m \u001b[49m\u001b[43mquery\u001b[49m\u001b[43m(\u001b[49m\u001b[38;5;124;43mf\u001b[39;49m\u001b[38;5;124;43m\"\u001b[39;49m\u001b[38;5;124;43mSELECT max(date) as most_recent, min(date) as oldest FROM \u001b[39;49m\u001b[38;5;132;43;01m{\u001b[39;49;00m\u001b[43mtable_name\u001b[49m\u001b[38;5;132;43;01m}\u001b[39;49;00m\u001b[38;5;124;43m;\u001b[39;49m\u001b[38;5;124;43m\"\u001b[39;49m\u001b[43m)\u001b[49m\u001b[38;5;241;43m.\u001b[39;49m\u001b[43mvalues\u001b[49m\u001b[43m[\u001b[49m\u001b[38;5;241;43m0\u001b[39;49m\u001b[43m]\u001b[49m\u001b[43m]\u001b[49m\n",
      "Cell \u001b[1;32mIn[11], line 2\u001b[0m, in \u001b[0;36m<listcomp>\u001b[1;34m(.0)\u001b[0m\n\u001b[0;32m      1\u001b[0m \u001b[38;5;28;01mdef\u001b[39;00m \u001b[38;5;21mtz_aware_first_and_last\u001b[39m(table_name, timezone\u001b[38;5;241m=\u001b[39m\u001b[38;5;124m'\u001b[39m\u001b[38;5;124mAmerica/New_York\u001b[39m\u001b[38;5;124m'\u001b[39m):\n\u001b[1;32m----> 2\u001b[0m     \u001b[38;5;28;01mreturn\u001b[39;00m [dt\u001b[38;5;241m.\u001b[39mdatetime(\u001b[38;5;241m*\u001b[39m\u001b[38;5;28mtuple\u001b[39m([\u001b[38;5;28mint\u001b[39m(y) \u001b[38;5;28;01mfor\u001b[39;00m y \u001b[38;5;129;01min\u001b[39;00m \u001b[43mx\u001b[49m\u001b[43m[\u001b[49m\u001b[43m:\u001b[49m\u001b[38;5;241;43m10\u001b[39;49m\u001b[43m]\u001b[49m\u001b[38;5;241m.\u001b[39msplit(\u001b[38;5;124m'\u001b[39m\u001b[38;5;124m-\u001b[39m\u001b[38;5;124m'\u001b[39m)]))\u001b[38;5;241m.\u001b[39mreplace(tzinfo\u001b[38;5;241m=\u001b[39mZoneInfo(timezone)) \u001b[38;5;28;01mfor\u001b[39;00m x \u001b[38;5;129;01min\u001b[39;00m query(\u001b[38;5;124mf\u001b[39m\u001b[38;5;124m\"\u001b[39m\u001b[38;5;124mSELECT max(date) as most_recent, min(date) as oldest FROM \u001b[39m\u001b[38;5;132;01m{\u001b[39;00mtable_name\u001b[38;5;132;01m}\u001b[39;00m\u001b[38;5;124m;\u001b[39m\u001b[38;5;124m\"\u001b[39m)\u001b[38;5;241m.\u001b[39mvalues[\u001b[38;5;241m0\u001b[39m]]\n",
      "\u001b[1;31mTypeError\u001b[0m: 'NoneType' object is not subscriptable"
     ]
    }
   ],
   "source": [
    "tz_aware_first_and_last('AAPL')"
   ]
  },
  {
   "cell_type": "code",
   "execution_count": 16,
   "metadata": {},
   "outputs": [],
   "source": [
    "def update_ticker_table(table_name:str, \n",
    "                        start_date:str,\n",
    "                        end_date:str,\n",
    "                        db_name='stocks.db', METADATA_TABLE:str='stock_metadata'):\n",
    "\n",
    "    try:\n",
    "        last_date, first_date, = tz_aware_first_and_last(table_name)\n",
    "    except:\n",
    "        last_date = 0\n",
    "        first_date = 0\n",
    "    data = get_ohlc(ticker_name=table_name, start_date=start_date, end_date=end_date)\n",
    "    if data['Date'].min() > last_date:   \n",
    "    con = sqlite3.connect(db_name)\n",
    "\n",
    "    columns = \",\".join([f\"'{x}'\" for x in data.columns])\n",
    "    with con:\n",
    "        try:\n",
    "            for row in data.iterrows():\n",
    "                values = \",\".join([f\"'{x}'\" for x in row[1].values])\n",
    "                #print(f'INSERT INTO {table_name} ({columns}) VALUES ({values})')\n",
    "                con.execute(f'INSERT INTO {table_name} ({columns}) VALUES ({values})')\n",
    "        except:\n",
    "            con.rollback()\n",
    "\n",
    "\n",
    "    new_first_date = min([data['Date'].min(), first_date])\n",
    "    new_last_date = max([data['Date'].max(), last_date])  \n",
    "    print(new_first_date, new_last_date)\n",
    "    update_metadata(table_name, str(new_first_date)[:10], str(new_last_date)[:10], )\n",
    "\n"
   ]
  }
 ],
 "metadata": {
  "kernelspec": {
   "display_name": "myenv",
   "language": "python",
   "name": "python3"
  },
  "language_info": {
   "codemirror_mode": {
    "name": "ipython",
    "version": 3
   },
   "file_extension": ".py",
   "mimetype": "text/x-python",
   "name": "python",
   "nbconvert_exporter": "python",
   "pygments_lexer": "ipython3",
   "version": "3.11.4"
  }
 },
 "nbformat": 4,
 "nbformat_minor": 2
}
